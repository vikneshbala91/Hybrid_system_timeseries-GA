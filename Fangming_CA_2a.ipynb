{
 "cells": [
  {
   "cell_type": "code",
   "execution_count": 1,
   "metadata": {},
   "outputs": [],
   "source": [
    "import pandas as pd\n",
    "import numpy as np\n",
    "import matplotlib.pyplot as plt\n",
    "import os"
   ]
  },
  {
   "cell_type": "code",
   "execution_count": 2,
   "metadata": {},
   "outputs": [],
   "source": [
    "base_path = 'D:\\\\KE Notes\\\\Developing intelligent systems for BA\\\\Day3\\\\2a\\\\'\n",
    "fin_data =  pd.read_csv(base_path+'FinancialData.csv')\n",
    "sgd_preds = pd.read_csv(base_path+'pred_sg_xch.csv')\n",
    "pound_preds = pd.read_csv(base_path+'pred_pound_xch.csv')"
   ]
  },
  {
   "cell_type": "code",
   "execution_count": 3,
   "metadata": {},
   "outputs": [],
   "source": [
    "fin_data['SG/P'] = fin_data['SG/D']/fin_data['P/D']"
   ]
  },
  {
   "cell_type": "code",
   "execution_count": 4,
   "metadata": {},
   "outputs": [],
   "source": [
    "# sg_value , us_value, pound_value (from previous week)\n",
    "# prev_sg_value = sg_value\n",
    "# prev_us_value = us_value\n",
    "# prev_pound_value = pound_value\n",
    "# sg_value = prev_sg_value + us_sg_qty*prev_us_value/((SG/D)*1.01) - sg_us_qty*prev_sg_value\n",
    "#                          + pound_sg_qty*prev_pound_value/((SG/P)*1.01) - sg_pound_qty*prev_sg_value\n",
    "# us_value = prev_us_value + sg_us_qty*prev_sg_value*((SG/D)/1.01) - us_sg_qty*prev_us_value\n",
    "#                          + pound_us_qty*prev_pound_value*((P/D)/1.01) - us_pound_qty*prev_us_value\n",
    "# pound_value = prev_pound_value + us_pound_qty*prev_us_value/((P/D)*1.01) - pound_us_qty*prev_pound_value\n",
    "#                                + sg_pound_qty*prev_sg_value*((SG/P)/1.01) - pound_sg_qty*prev_pound_value\n",
    "# sg_value_in_us = sg_value * SG/D\n",
    "# pound_value_in_us = pound_value * P/D\n",
    "# y = sg_value_in_us          + us_value          + pound_value_in_us + \n",
    "#     sg_value_in_us*interest + us_value*interest + pound_value_in_us*interest"
   ]
  },
  {
   "cell_type": "code",
   "execution_count": 5,
   "metadata": {},
   "outputs": [],
   "source": [
    "def estimate_total(x,prev_val,qty_val,sgd_preds,pound_preds,wdw):\n",
    "    #prev_val --> [sg_value, us_value, pound_value]\n",
    "    #qty_val --> [sg_us_qty,pound_us_qty,sg_pound_qty]\n",
    "    #pred_xch_val  --> [SG/D,P/D]\n",
    "    prev_sg_val = prev_val[0]\n",
    "    prev_us_val = prev_val[1]\n",
    "    prev_pound_val = prev_val[2]\n",
    "\n",
    "    for w in range(1,wdw+1):\n",
    "#         print(w)\n",
    "        pred_xch_val = [sgd_preds.iloc[x+w-1: x+w,x].values[0],\n",
    "                        pound_preds.iloc[x+w-1: x+w,x].values[0],\n",
    "                        sgd_preds.iloc[x+w-1: x+w,x].values[0]/pound_preds.iloc[x+w-1: x+w,x].values[0]] \n",
    "        if w == 1:\n",
    "            prev_sg_val = prev_val[0]\n",
    "            prev_us_val = prev_val[1]\n",
    "            prev_pound_val = prev_val[2]\n",
    "        else:\n",
    "            prev_sg_val = sg_val\n",
    "            prev_us_val = us_val\n",
    "            prev_pound_val = pound_val          \n",
    "        qty_sg_us_val = qty_val[0+3*(w-1)]\n",
    "        qty_pound_us_val = qty_val[1+3*(w-1)]\n",
    "        qty_sg_pound_val = qty_val[2+3*(w-1)]\n",
    "        # reductions\n",
    "        sg_val = prev_sg_val - max(qty_sg_us_val,0)*prev_sg_val - max(qty_sg_pound_val,0)*prev_sg_val\n",
    "        us_val = prev_us_val - abs(min(qty_sg_us_val,0))*prev_us_val - abs(min(qty_pound_us_val,0))*prev_us_val\n",
    "        pound_val = prev_pound_val - max(qty_pound_us_val,0)*prev_pound_val - abs(min(qty_sg_pound_val,0))*prev_pound_val\n",
    "        #print(sg_val,us_val,pound_val)\n",
    "        if sg_val >= 0 and us_val >= 0 and pound_val >= 0:\n",
    "            # additions\n",
    "            sg_val = sg_val + abs(min(qty_sg_us_val,0))*prev_us_val/(pred_xch_val[0]*1.01) \\\n",
    "                            + abs(min(qty_sg_pound_val,0))*prev_pound_val/(pred_xch_val[2]*1.01) \n",
    "            us_val = us_val + max(qty_sg_us_val,0)*prev_sg_val*(pred_xch_val[0]/1.01) \\\n",
    "                            + max(qty_pound_us_val,0)*prev_pound_val*(pred_xch_val[1]/1.01) \n",
    "            pound_val = pound_val + abs(min(qty_pound_us_val,0))*prev_us_val/(pred_xch_val[1]*1.01) \\\n",
    "                                  + max(qty_sg_pound_val,0)*prev_sg_val*(pred_xch_val[2]/1.01) \n",
    "#             print(sg_val,us_val,pound_val)\n",
    "        else:\n",
    "            return 0\n",
    "    sg_val_us = sg_val * pred_xch_val[0]\n",
    "    pound_val_us = pound_val * pred_xch_val[1]\n",
    "    #print(sg_val_us, us_val, pound_val_us)\n",
    "    return sg_val_us + us_val + pound_val_us "
   ]
  },
  {
   "cell_type": "code",
   "execution_count": 6,
   "metadata": {},
   "outputs": [],
   "source": [
    "def cal_pop_fitness(x,prev_val, sgd_preds,pound_preds, pop, wdw):\n",
    "     # Calculating the fitness value of each solution in the current population.\n",
    "     # The fitness function calculates the sum of products between each input and its corresponding weight.\n",
    "    fitness = []\n",
    "    for p in pop:\n",
    "        fitness.append(estimate_total(x,prev_val,p,sgd_preds,pound_preds,wdw))\n",
    "    #fitness = np.sum(pop*equation_inputs, axis=1)\n",
    "    return fitness\n",
    "# cal_pop_fitness(prev_val, pred_xch_val,new_population)"
   ]
  },
  {
   "cell_type": "code",
   "execution_count": 7,
   "metadata": {},
   "outputs": [],
   "source": [
    "def select_mating_pool(pop, fitness, num_parents,best_ind=False):\n",
    "    # Selecting the best individuals in the current generation as parents for producing the offspring of the next generation.\n",
    "    parents = np.empty((num_parents, pop.shape[1]))\n",
    "    for parent_num in range(num_parents):\n",
    "        max_fitness_idx = np.where(fitness == np.max(fitness))\n",
    "        max_fitness_idx = max_fitness_idx[0][0]\n",
    "        parents[parent_num, :] = pop[max_fitness_idx, :]\n",
    "        max_fitness = fitness[max_fitness_idx]\n",
    "        fitness[max_fitness_idx] = -99999999999\n",
    "    if best_ind:\n",
    "        return parents[0],max_fitness\n",
    "    else:\n",
    "        return parents"
   ]
  },
  {
   "cell_type": "code",
   "execution_count": 8,
   "metadata": {},
   "outputs": [],
   "source": [
    "def crossover(parents, offspring_size):\n",
    "    offspring = np.empty(offspring_size)\n",
    "    # The point at which crossover takes place between two parents. Usually, it is at the center.\n",
    "    crossover_point = offspring_size[1]//2\n",
    "    \n",
    "    for k in range(offspring_size[0]):\n",
    "        # Index of the first parent to mate.\n",
    "        parent1_idx = k%parents.shape[0]\n",
    "        # Index of the second parent to mate.\n",
    "        parent2_idx = (k+1)%parents.shape[0]\n",
    "        # The new offspring will have its first half of its genes taken from the first parent.\n",
    "        offspring[k, 0:crossover_point] = parents[parent1_idx, 0:crossover_point]\n",
    "        # The new offspring will have its second half of its genes taken from the second parent.\n",
    "        offspring[k, crossover_point:] = parents[parent2_idx, crossover_point:]\n",
    "    return offspring"
   ]
  },
  {
   "cell_type": "code",
   "execution_count": 9,
   "metadata": {},
   "outputs": [],
   "source": [
    "def mutation(offspring_crossover,mutation_rate):\n",
    "    # Mutation changes a single gene in each offspring randomly.\n",
    "    mutated_offspring = []\n",
    "    for idx in range(offspring_crossover.shape[0]):\n",
    "        for swapped in range(len(offspring_crossover[idx])):\n",
    "            if np.random.random() < mutation_rate:\n",
    "                swap_with = int(np.random.random() * len(offspring_crossover[idx]))\n",
    "                x = offspring_crossover[idx][swapped]\n",
    "                y = offspring_crossover[idx][swap_with]\n",
    "                \n",
    "                offspring_crossover[idx][swapped] = y\n",
    "                offspring_crossover[idx][swap_with] = x\n",
    "        mutated_offspring.append(offspring_crossover[idx])\n",
    "        # The random value to be added to the gene.\n",
    "        #random_value = np.random.uniform(-1.0, 1.0, 1)\n",
    "        #random_byte = np.random.randint(0,3,1)[0]\n",
    "        #offspring_crossover[idx, random_byte] = offspring_crossover[idx, random_byte] + random_value\n",
    "    return mutated_offspring"
   ]
  },
  {
   "cell_type": "code",
   "execution_count": 10,
   "metadata": {},
   "outputs": [],
   "source": [
    "# for x in range(101): # till week 602, figure out till 606\n",
    "#     #print('actuals for week', 502+x, ':',fin_data.loc[501+x,['SG/D','P/D']].values)\n",
    "#     #print(sgd_preds.iloc[x: wdw,x].values, pound_preds.iloc[x:wdw,x].values)\n",
    "#     print(\"In Week\",502+x, \"finding best conversion for week\", 503+x)"
   ]
  },
  {
   "cell_type": "code",
   "execution_count": 11,
   "metadata": {},
   "outputs": [],
   "source": [
    "def actual_total(x,prev_val,qty_val,act_xch_val):\n",
    "    #prev_val --> [sg_value, us_value, pound_value]\n",
    "    #qty_val --> [sg_us_qty,pound_us_qty,sg_pound_qty]\n",
    "    #act_xch_val  --> [SG/D,P/D,(SG/D)/(P/D)]\n",
    "    prev_sg_val = prev_val[0]\n",
    "    prev_us_val = prev_val[1]\n",
    "    prev_pound_val = prev_val[2]\n",
    "    # reductions\n",
    "    sg_val = prev_sg_val - max(qty_val[0],0)*prev_sg_val - max(qty_val[2],0)*prev_sg_val\n",
    "    us_val = prev_us_val - abs(min(qty_val[0],0))*prev_us_val - abs(min(qty_val[1],0))*prev_us_val\n",
    "    pound_val = prev_pound_val - max(qty_val[1],0)*prev_pound_val - abs(min(qty_val[2],0))*prev_pound_val\n",
    "    #print(sg_val,us_val,pound_val)\n",
    "    if sg_val >= 0 and us_val >= 0 and pound_val >= 0:\n",
    "        # additions\n",
    "        sg_val = sg_val + abs(min(qty_val[0],0))*prev_us_val/(act_xch_val[0]*1.01) \\\n",
    "                        + abs(min(qty_val[2],0))*prev_pound_val/(act_xch_val[2]*1.01) \n",
    "        us_val = us_val + max(qty_val[0],0)*prev_sg_val*(act_xch_val[0]/1.01) \\\n",
    "                        + max(qty_val[1],0)*prev_pound_val*(act_xch_val[1]/1.01) \n",
    "        pound_val = pound_val + abs(min(qty_val[1],0))*prev_us_val/(act_xch_val[1]*1.01) \\\n",
    "                              + max(qty_val[2],0)*prev_sg_val*(act_xch_val[2]/1.01) \n",
    "        #print(sg_val,us_val,pound_val)\n",
    "        sg_val_us = sg_val * act_xch_val[0]\n",
    "        pound_val_us = pound_val * act_xch_val[1]\n",
    "        #print(sg_val_us, us_val, pound_val_us)\n",
    "        return sg_val_us + us_val + pound_val_us , [sg_val, us_val, pound_val]\n",
    "    else:\n",
    "        return 0,0,0,0"
   ]
  },
  {
   "cell_type": "code",
   "execution_count": 12,
   "metadata": {},
   "outputs": [],
   "source": [
    "def ga_part(x,wdw,sol_per_pop,num_generations,mutation_rate,prev_val):\n",
    "    \n",
    "    num_genes = wdw*3\n",
    "    pop_size = (sol_per_pop,num_genes)\n",
    "    new_population = np.around(np.random.uniform(low=-1.0, high=1.0, size=pop_size),decimals=3)\n",
    "    num_parents_mating = int(sol_per_pop/2)\n",
    "    \n",
    "    for generation in range(num_generations):\n",
    "        #print(\"Generation \", generation)\n",
    "        # Measuring the fitness of each chromosome in the population.\n",
    "        fitness = cal_pop_fitness(x,prev_val, sgd_preds,pound_preds,new_population, wdw)\n",
    "        # Selecting the best parents in the population for mating.\n",
    "        parents = select_mating_pool(new_population, fitness, num_parents_mating)\n",
    "        # Generating next generation using crossover.\n",
    "        offspring_crossover = crossover(parents,offspring_size=(pop_size[0]-parents.shape[0], num_genes))\n",
    "        # Adding some variations to the offsrping using mutation.\n",
    "        offspring_mutation = mutation(offspring_crossover,mutation_rate)\n",
    "        # Creating the new population based on the parents and offspring.\n",
    "        new_population[0:parents.shape[0], :] = parents\n",
    "        new_population[parents.shape[0]:, :] = offspring_mutation\n",
    "    fitness = cal_pop_fitness(x,prev_val, sgd_preds,pound_preds,new_population, wdw)\n",
    "    \n",
    "    best_ind,max_fitness = select_mating_pool(new_population, fitness, 1,best_ind=True)\n",
    "    print('best_individual:',best_ind[:3],'with fitness', max_fitness)\n",
    "    return best_ind"
   ]
  },
  {
   "cell_type": "code",
   "execution_count": 35,
   "metadata": {},
   "outputs": [
    {
     "name": "stdout",
     "output_type": "stream",
     "text": [
      "best_individual: [-0.127  0.86   0.57 ] with fitness 31466.47912981349\n",
      "week 502  init_bal [10000, 10000, 10000] curr_bal [ 6072.0205 21795.1881  4009.9278] 32256.7271\n",
      "best_individual: [0.139 0.087 0.364] with fitness 32333.136285869623\n",
      "week 503  init_bal [ 6072.0205 21795.1881  4009.9278] curr_bal [ 3017.7942 22918.1649  4673.0821] 32229.9689\n",
      "best_individual: [ 0.646  0.723 -0.06 ] with fitness 32439.708958867148\n",
      "week 504  init_bal [ 3017.7942 22918.1649  4673.0821] curr_bal [ 1668.5852 29420.6841  1014.0588] 32160.684\n",
      "best_individual: [ 0.126  0.043 -0.588] with fitness 32153.6629986397\n",
      "week 505  init_bal [ 1668.5852 29420.6841  1014.0588] curr_bal [ 2734.9118 29634.6389   374.1877] 32149.4859\n",
      "best_individual: [-0.394  0.406 -0.546] with fitness 31592.469714098257\n",
      "week 506  init_bal [ 2734.9118 29634.6389   374.1877] curr_bal [1.94638116e+04 1.81893896e+04 1.79610000e+01] 32028.4697\n",
      "best_individual: [0.496 0.802 0.11 ] with fitness 31681.90904641695\n",
      "week 507  init_bal [1.94638116e+04 1.81893896e+04 1.79610000e+01] curr_bal [ 7668.7418 24993.9608   983.8906] 31945.3817\n",
      "best_individual: [0.013 0.561 0.119] with fitness 31393.578919643252\n",
      "week 508  init_bal [ 7668.7418 24993.9608   983.8906] curr_bal [ 6656.4679 25902.549    849.7821] 31929.8843\n",
      "best_individual: [ 0.034 -0.933  0.949] with fitness 31757.6080723169\n",
      "week 509  init_bal [ 6656.4679 25902.549    849.7821] curr_bal [  113.16    1894.4773 19336.4566] 31644.6347\n",
      "best_individual: [-0.343 -0.39   0.352] with fitness 32070.845595972824\n",
      "week 510  init_bal [  113.16    1894.4773 19336.4566] curr_bal [  979.9962   505.8254 19831.4488] 31630.6058\n",
      "best_individual: [0.356 0.323 0.09 ] with fitness 32712.725654031063\n",
      "week 511  init_bal [  979.9962   505.8254 19831.4488] curr_bal [  542.9179 10482.313  13466.2759] 31530.2212\n",
      "best_individual: [ 0.278 -0.147  0.026] with fitness 32807.4142748321\n",
      "week 512  init_bal [  542.9179 10482.313  13466.2759] curr_bal [  377.8709  9047.4533 14467.0326] 31513.8053\n",
      "best_individual: [-0.026 -0.041 -0.097] with fitness 33582.481717915965\n",
      "week 513  init_bal [  377.8709  9047.4533 14467.0326] curr_bal [ 3710.4702  8441.2739 13303.0897] 31486.4845\n",
      "best_individual: [0.251 0.268 0.723] with fitness 32691.624702525965\n",
      "week 514  init_bal [ 3710.4702  8441.2739 13303.0897] curr_bal [   96.4722 14511.9237 10966.2081] 31406.9301\n",
      "best_individual: [0.449 0.003 0.449] with fitness 33570.76246091046\n",
      "week 515  init_bal [   96.4722 14511.9237 10966.2081] curr_bal [9.84020000e+00 1.45923363e+04 1.09531431e+04] 31405.8216\n",
      "best_individual: [ 0.229 -0.373 -0.062] with fitness 33717.81173375946\n",
      "week 516  init_bal [9.84020000e+00 1.45923363e+04 1.09531431e+04] curr_bal [ 1461.4852  9150.978  13786.2034] 31341.5985\n",
      "best_individual: [ 0.181 -0.637 -0.031] with fitness 34096.49221482128\n",
      "week 517  init_bal [ 1461.4852  9150.978  13786.2034] curr_bal [ 2111.933   3507.6562 17120.2091] 31275.5326\n",
      "best_individual: [ 0.782 -0.737  0.098] with fitness 34231.77418380683\n",
      "week 518  init_bal [ 2111.933   3507.6562 17120.2091] curr_bal [  253.432   2082.8372 18883.0861] 31236.8799\n",
      "best_individual: [-0.196 -0.202  0.351] with fitness 34755.4024627589\n",
      "week 519  init_bal [  253.432   2082.8372 18883.0861] curr_bal [  734.0858  1253.868  19195.3024] 31228.0473\n",
      "best_individual: [ 0.233 -0.686  0.532] with fitness 34491.06507779627\n",
      "week 520  init_bal [  734.0858  1253.868  19195.3024] curr_bal [  172.5102   513.8843 19929.1501] 31215.5854\n",
      "best_individual: [ 0.289 -0.6    0.289] with fitness 34010.86635837086\n",
      "week 521  init_bal [  172.5102   513.8843 19929.1501] curr_bal [   72.7993   240.5809 20150.9338] 31211.8321\n"
     ]
    }
   ],
   "source": [
    "#x = 0\n",
    "init_bal = [10000,10000,10000]\n",
    "for x in range(20):\n",
    "    act_xch_val = [fin_data.loc[501,'SG/D'],\n",
    "                   fin_data.loc[501,'P/D'],\n",
    "                   fin_data.loc[501,'SG/D']/fin_data.loc[501,'P/D']]\n",
    "    best_ind = ga_part(x, wdw = 10, sol_per_pop = 50, num_generations = 50, mutation_rate = 0.2,\n",
    "                       prev_val = init_bal)\n",
    "    tot_bal,curr_bal = actual_total(x, prev_val = init_bal, qty_val = best_ind, act_xch_val = act_xch_val)\n",
    "    print('week',502+x,' init_bal',init_bal,'curr_bal',np.around(curr_bal,decimals=4),round(tot_bal,4))\n",
    "    init_bal = np.around(curr_bal,decimals=4)\n"
   ]
  },
  {
   "cell_type": "code",
   "execution_count": 33,
   "metadata": {},
   "outputs": [],
   "source": [
    "sgd_st1_pred = pd.DataFrame([sgd_preds.iloc[x,x] for x in range(104)])\n",
    "sgd_st1_pred.index = range(502,606)\n",
    "pd_st1_pred = pd.DataFrame([pound_preds.iloc[x,x] for x in range(104)])\n",
    "pd_st1_pred.index = range(502,606)\n",
    "sgp_st1_pred = pd.DataFrame([sgd_preds.iloc[x,x]/pound_preds.iloc[x,x] for x in range(104)])\n",
    "sgp_st1_pred.index = range(502,606)"
   ]
  },
  {
   "cell_type": "code",
   "execution_count": 27,
   "metadata": {},
   "outputs": [
    {
     "data": {
      "text/plain": [
       "[<matplotlib.lines.Line2D at 0x1d6e67aeac8>]"
      ]
     },
     "execution_count": 27,
     "metadata": {},
     "output_type": "execute_result"
    },
    {
     "data": {
      "image/png": "[encoded data removed]",
      "text/plain": [
       "<Figure size 432x288 with 1 Axes>"
      ]
     },
     "metadata": {},
     "output_type": "display_data"
    }
   ],
   "source": [
    "plt.plot(fin_data['SG/D'])\n",
    "plt.plot(sgd_st1_pred)"
   ]
  },
  {
   "cell_type": "code",
   "execution_count": 30,
   "metadata": {},
   "outputs": [
    {
     "data": {
      "text/plain": [
       "[<matplotlib.lines.Line2D at 0x1d6e6822358>]"
      ]
     },
     "execution_count": 30,
     "metadata": {},
     "output_type": "execute_result"
    },
    {
     "data": {
      "image/png": "[encoded data removed]",
      "text/plain": [
       "<Figure size 432x288 with 1 Axes>"
      ]
     },
     "metadata": {},
     "output_type": "display_data"
    }
   ],
   "source": [
    "plt.plot(fin_data['P/D'])\n",
    "plt.plot(pd_st1_pred)"
   ]
  },
  {
   "cell_type": "code",
   "execution_count": 34,
   "metadata": {},
   "outputs": [
    {
     "data": {
      "text/plain": [
       "[<matplotlib.lines.Line2D at 0x1d6e6814ef0>]"
      ]
     },
     "execution_count": 34,
     "metadata": {},
     "output_type": "execute_result"
    },
    {
     "data": {
      "image/png": "[encoded data removed]",
      "text/plain": [
       "<Figure size 432x288 with 1 Axes>"
      ]
     },
     "metadata": {},
     "output_type": "display_data"
    }
   ],
   "source": [
    "plt.plot(fin_data['SG/P'])\n",
    "plt.plot(sgp_st1_pred)"
   ]
  },
  {
   "cell_type": "code",
   "execution_count": null,
   "metadata": {},
   "outputs": [],
   "source": []
  },
  {
   "cell_type": "code",
   "execution_count": null,
   "metadata": {},
   "outputs": [],
   "source": []
  },
  {
   "cell_type": "code",
   "execution_count": null,
   "metadata": {},
   "outputs": [],
   "source": []
  },
  {
   "cell_type": "code",
   "execution_count": null,
   "metadata": {},
   "outputs": [],
   "source": []
  }
 ],
 "metadata": {
  "kernelspec": {
   "display_name": "Python 3",
   "language": "python",
   "name": "python3"
  },
  "language_info": {
   "codemirror_mode": {
    "name": "ipython",
    "version": 3
   },
   "file_extension": ".py",
   "mimetype": "text/x-python",
   "name": "python",
   "nbconvert_exporter": "python",
   "pygments_lexer": "ipython3",
   "version": "3.6.5"
  }
 },
 "nbformat": 4,
 "nbformat_minor": 2
}
